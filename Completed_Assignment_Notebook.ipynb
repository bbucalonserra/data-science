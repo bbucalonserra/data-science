{
 "cells": [
  {
   "cell_type": "markdown",
   "id": "84ca37f6",
   "metadata": {},
   "source": [
    "# Jupyter Notebook Assignment"
   ]
  },
  {
   "cell_type": "markdown",
   "id": "cf718360",
   "metadata": {},
   "source": [
    "## Introduction\n",
    "This notebook demonstrates basic markdown and code cell usage in Jupyter Notebooks."
   ]
  },
  {
   "cell_type": "markdown",
   "id": "d39e7cb8",
   "metadata": {},
   "source": [
    "## Languages Used in Data Science\n",
    "- Python\n",
    "- R\n",
    "- SQL\n",
    "- Julia\n",
    "- Scala"
   ]
  },
  {
   "cell_type": "markdown",
   "id": "406b3482",
   "metadata": {},
   "source": [
    "## Popular Data Science Libraries\n",
    "- NumPy\n",
    "- Pandas\n",
    "- Matplotlib\n",
    "- Scikit-learn\n",
    "- TensorFlow\n",
    "- Keras"
   ]
  },
  {
   "cell_type": "markdown",
   "id": "a88dc2c7",
   "metadata": {},
   "source": [
    "## Data Science Tools Table\n",
    "| Tool Name | Description |\n",
    "|-----------|-------------|\n",
    "| Jupyter Notebook | Interactive computing environment |\n",
    "| RStudio | IDE for R programming |\n",
    "| Apache Spark | Big data processing |\n",
    "| TensorFlow | Deep learning framework |"
   ]
  },
  {
   "cell_type": "markdown",
   "id": "10e55740",
   "metadata": {},
   "source": [
    "## Arithmetic Expression Examples\n",
    "Below are some examples of arithmetic expressions using Python."
   ]
  },
  {
   "cell_type": "code",
   "execution_count": 1,
   "id": "a891fd69",
   "metadata": {},
   "outputs": [
    {
     "data": {
      "text/plain": [
       "23"
      ]
     },
     "execution_count": 1,
     "metadata": {},
     "output_type": "execute_result"
    }
   ],
   "source": [
    "result = (5 * 4) + 3\n",
    "result"
   ]
  },
  {
   "cell_type": "code",
   "execution_count": 2,
   "id": "5ab0dcac",
   "metadata": {},
   "outputs": [
    {
     "data": {
      "text/plain": [
       "2.0"
      ]
     },
     "execution_count": 2,
     "metadata": {},
     "output_type": "execute_result"
    }
   ],
   "source": [
    "# Convert 120 minutes to hours\n",
    "minutes = 120\n",
    "hours = minutes / 60\n",
    "hours"
   ]
  },
  {
   "cell_type": "markdown",
   "id": "0f2061a8",
   "metadata": {},
   "source": [
    "## Objectives\n",
    "- Understand markdown syntax\n",
    "- Use code cells for calculations\n",
    "- Learn common Data Science tools and languages"
   ]
  },
  {
   "cell_type": "markdown",
   "id": "8d5abddd",
   "metadata": {},
   "source": [
    "## Author\n",
    "Bruno Bucalon Serra"
   ]
  },
  {
   "cell_type": "markdown",
   "id": "cd5b0042",
   "metadata": {},
   "source": [
    "## GitHub Link\n",
    "This notebook is shared on GitHub:"
   ]
  },
  {
   "cell_type": "markdown",
   "id": "4b324c37",
   "metadata": {},
   "source": [
    "## Screenshot\n",
    "*(Insert your screenshot of the first page here)*"
   ]
  }
 ],
 "metadata": {
  "kernelspec": {
   "display_name": "base",
   "language": "python",
   "name": "python3"
  },
  "language_info": {
   "codemirror_mode": {
    "name": "ipython",
    "version": 3
   },
   "file_extension": ".py",
   "mimetype": "text/x-python",
   "name": "python",
   "nbconvert_exporter": "python",
   "pygments_lexer": "ipython3",
   "version": "3.12.7"
  }
 },
 "nbformat": 4,
 "nbformat_minor": 5
}
